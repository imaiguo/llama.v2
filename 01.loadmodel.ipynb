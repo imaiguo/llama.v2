{
 "cells": [
  {
   "cell_type": "markdown",
   "id": "00fa9799-232d-4001-9016-2faafbba298d",
   "metadata": {},
   "source": [
    "# Load Model\n",
    "\n",
    "llama2 model from Meta website"
   ]
  },
  {
   "cell_type": "markdown",
   "id": "a4eb760f-19cb-4bd6-a4ab-6161f9bc1056",
   "metadata": {},
   "source": [
    "# 1 pytorch方式加载"
   ]
  },
  {
   "cell_type": "markdown",
   "id": "f98b004d-9817-4c35-b0a0-e76aa1009cba",
   "metadata": {},
   "source": [
    "## 1.1 配置环境变量"
   ]
  },
  {
   "cell_type": "code",
   "execution_count": 1,
   "id": "d2e97144-14c7-4cf6-a353-cb2f077ef4ff",
   "metadata": {},
   "outputs": [],
   "source": [
    "import torch.distributed as dist\n",
    "import os\n",
    "\n",
    "from llama import Llama\n",
    "from typing import List\n",
    "\n",
    "os.environ['MASTER_ADDR'] = 'localhost'\n",
    "os.environ['MASTER_PORT'] = '5678'\n",
    "os.environ[\"PL_TORCH_DISTRIBUTED_BACKEND\"] = \"gloo\"\n",
    "dist.init_process_group(backend='gloo', init_method='env://', rank = 0, world_size = 1)"
   ]
  },
  {
   "cell_type": "markdown",
   "id": "693fa671-d53c-444b-929f-f673395ce5b4",
   "metadata": {},
   "source": [
    "## 1.2 导入参数模型"
   ]
  },
  {
   "cell_type": "code",
   "execution_count": 3,
   "id": "6136da34-2f21-4ac7-b062-409789b409a1",
   "metadata": {},
   "outputs": [
    {
     "name": "stdout",
     "output_type": "stream",
     "text": [
      "> initializing model parallel with size 1\n",
      "> initializing ddp with size 1\n",
      "> initializing pipeline with size 1\n"
     ]
    },
    {
     "name": "stderr",
     "output_type": "stream",
     "text": [
      "/opt/Data/PythonVenv/llama2/lib/python3.11/site-packages/torch/__init__.py:696: UserWarning: torch.set_default_tensor_type() is deprecated as of PyTorch 2.1, please use torch.set_default_dtype() and torch.set_default_device() as alternatives. (Triggered internally at ../torch/csrc/tensor/python_tensor.cpp:451.)\n",
      "  _C._set_default_tensor_type(t)\n"
     ]
    },
    {
     "name": "stdout",
     "output_type": "stream",
     "text": [
      "Loaded in 16.44 seconds\n"
     ]
    }
   ],
   "source": [
    "import platform\n",
    "\n",
    "if platform.system() == \"Windows\":\n",
    "    ckpt_dir = \"E:/THUDM/llama2/model/llama-2-7b-chat\"\n",
    "    tokenizer_path = \"E:/THUDM/llama2/model/tokenizer.model\"\n",
    "else:\n",
    "    ckptDir = \"/opt/Data/THUDM/llama2/llama-2-7b-chat\"\n",
    "    tokenizerPath = \"/opt/Data/THUDM/llama2/tokenizer.model\"\n",
    "\n",
    "generator = Llama.build(\n",
    "    ckpt_dir=ckptDir,\n",
    "    tokenizer_path=tokenizerPath,\n",
    "    max_seq_len=4096,\n",
    "    max_batch_size=4\n",
    ")"
   ]
  },
  {
   "cell_type": "code",
   "execution_count": 4,
   "id": "f288a8f9-efb0-45d2-a838-46940ac6109c",
   "metadata": {},
   "outputs": [],
   "source": [
    "def runPrompt(prompts: List[str]):\n",
    "    results = generator.text_completion(\n",
    "        prompts,\n",
    "        max_gen_len=64,\n",
    "        temperature=0.6,\n",
    "        top_p=0.9\n",
    "    )\n",
    "\n",
    "    for prompt, result in zip(prompts, results):\n",
    "        print(f\"user> {prompt}\")\n",
    "        print(f\"assistant > {result['generation']}\")\n",
    "\n",
    "    return result"
   ]
  },
  {
   "cell_type": "markdown",
   "id": "59374453-b70e-4117-b496-5599a8482d0a",
   "metadata": {},
   "source": [
    "# 2 会话聊天"
   ]
  },
  {
   "cell_type": "code",
   "execution_count": 4,
   "id": "7803a513-2e71-44cc-a09e-340ff9e8faa9",
   "metadata": {},
   "outputs": [
    {
     "name": "stdout",
     "output_type": "stream",
     "text": [
      "I believe the meaning of life is\n",
      "> to find happiness and fulfillment. Here are some reasons why:\n",
      "1. Happiness is a fundamental human need: As humans, we have a natural desire for happiness and satisfaction. It is a basic human need, along with food, shelter, and clothing.\n",
      "2. Happiness is a\n",
      "\n",
      "==================================\n",
      "\n",
      "Simply put, the theory of relativity states that \n",
      "> 1) the laws of physics are the same for all observers in uniform motion relative to one another, and 2) the speed of light is always constant, regardless of the motion of the observer.\n",
      "Einstein's theory of relativity revolutionized our understanding of space and time. Here are some key\n",
      "\n",
      "==================================\n",
      "\n",
      "A brief message congratulating the team on the launch:\n",
      "\n",
      "    Hi everyone,\n",
      "    \n",
      "    I just \n",
      "> wanted to take a moment to congratulate the entire team on the successful launch of our new product! It was a tremendous effort, and I'm thrilled to see it come to life. Your hard work and dedication have truly paid off, and I'm honored to be a part\n",
      "\n",
      "==================================\n",
      "\n",
      "Translate English to French:\n",
      "    \n",
      "    sea otter => loutre de mer\n",
      "    peppermint => menthe poivrée\n",
      "    plush girafe => girafe peluche\n",
      "    cheese =>\n",
      "> fromage\n",
      "    strawberry => fraise\n",
      "    bubblegum => gum bubble\n",
      "    pineapple => ananas\n",
      "    chocolate => chocolat\n",
      "    ice cream => glace\n",
      "    carrot => carotte\n",
      "    apple => pomme\n",
      "    orange =>\n",
      "\n",
      "==================================\n",
      "\n"
     ]
    }
   ],
   "source": [
    "prompts: List[str] = [\n",
    "    # For these prompts, the expected answer is the natural continuation of the prompt\n",
    "    \"I believe the meaning of life is\",\n",
    "    \"Simply put, the theory of relativity states that \",\n",
    "    \"\"\"A brief message congratulating the team on the launch:\n",
    "\n",
    "    Hi everyone,\n",
    "    \n",
    "    I just \"\"\",\n",
    "    # Few shot prompt (providing a few examples before asking model to complete more);\n",
    "    \"\"\"Translate English to French:\n",
    "    \n",
    "    sea otter => loutre de mer\n",
    "    peppermint => menthe poivrée\n",
    "    plush girafe => girafe peluche\n",
    "    cheese =>\"\"\",\n",
    "]\n",
    "\n",
    "result = runPrompt(prompts)"
   ]
  },
  {
   "cell_type": "code",
   "execution_count": 5,
   "id": "6b4fcc60-9392-442e-8944-8e44befea31d",
   "metadata": {},
   "outputs": [
    {
     "name": "stdout",
     "output_type": "stream",
     "text": [
      "user> I'm happy today\n",
      "assistant > because I finally got around to watching the movie \"The Shawshank Redemption\" for the first time. I've heard so many great things about it over the years, and I'm glad I finally got to see what all the fuss is about. It's a powerful and moving film about\n"
     ]
    }
   ],
   "source": [
    "prompts: List[str] = [\n",
    "    \"I'm happy today\",\n",
    "]\n",
    "\n",
    "result = runPrompt(prompts)"
   ]
  }
 ],
 "metadata": {
  "kernelspec": {
   "display_name": "Python 3 (ipykernel)",
   "language": "python",
   "name": "python3"
  },
  "language_info": {
   "codemirror_mode": {
    "name": "ipython",
    "version": 3
   },
   "file_extension": ".py",
   "mimetype": "text/x-python",
   "name": "python",
   "nbconvert_exporter": "python",
   "pygments_lexer": "ipython3",
   "version": "3.11.2"
  }
 },
 "nbformat": 4,
 "nbformat_minor": 5
}
