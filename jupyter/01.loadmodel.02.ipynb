{
 "cells": [
  {
   "cell_type": "markdown",
   "id": "848d6ba6-8726-41da-a426-019d07fe29c3",
   "metadata": {},
   "source": [
    "# Hugging face\n",
    "\n",
    "从meta公司下载参数为bfloat16, 需要转换为fb16格式才能被Hugging face框架使用"
   ]
  },
  {
   "cell_type": "code",
   "execution_count": 1,
   "id": "1242d78a-39ef-4ab5-a08a-f2cc6d268d99",
   "metadata": {},
   "outputs": [],
   "source": [
    "import platform\n",
    "\n",
    "if platform.system() == \"Windows\":\n",
    "    MODEL_PATH = \"E:/THUDM/llama2.hf/llama-2-7b-chat\"\n",
    "else:\n",
    "    MODEL_PATH = \"/opt/Data/THUDM/llama2.hf/llama-2-7b-chat-hf\""
   ]
  },
  {
   "cell_type": "markdown",
   "id": "caf9f3a0-91e6-4349-bdcb-9f8ad73aedb0",
   "metadata": {},
   "source": [
    "# 1 LlamaForCausalLM"
   ]
  },
  {
   "cell_type": "markdown",
   "id": "ed578a82-e64c-4b9e-874e-02aad2d3ba49",
   "metadata": {},
   "source": [
    "## 1.1 CPU计算"
   ]
  },
  {
   "cell_type": "code",
   "execution_count": 2,
   "id": "2e30ddb0-cc47-4ff2-99e9-0e544a01e0da",
   "metadata": {},
   "outputs": [
    {
     "data": {
      "application/vnd.jupyter.widget-view+json": {
       "model_id": "c8f9d9c347244509b1b80fe40daded8b",
       "version_major": 2,
       "version_minor": 0
      },
      "text/plain": [
       "Loading checkpoint shards:   0%|          | 0/3 [00:00<?, ?it/s]"
      ]
     },
     "metadata": {},
     "output_type": "display_data"
    }
   ],
   "source": [
    "# https://huggingface.co/docs/transformers/main_classes/model\n",
    "# torch_dtype\n",
    "# torch.float16 or torch.bfloat16 or torch.float: load in a specified dtype, ignoring the model’s config.torch_dtype if one exists. If not specified\n",
    "# the model will get loaded in torch.float (fp32).\n",
    "\n",
    "import torch\n",
    "\n",
    "from transformers import LlamaForCausalLM, LlamaTokenizer\n",
    "\n",
    "tokenizer = LlamaTokenizer.from_pretrained(MODEL_PATH)\n",
    "model = LlamaForCausalLM.from_pretrained(MODEL_PATH)"
   ]
  },
  {
   "cell_type": "code",
   "execution_count": 5,
   "id": "5c1d3422-2796-4448-826c-6a8dfe8f7f48",
   "metadata": {},
   "outputs": [
    {
     "name": "stdout",
     "output_type": "stream",
     "text": [
      "Hey, are you conscious? Can you talk to me?\n",
      "\n",
      "I'm just an AI, I don't have consciousness or the ability to talk like a human. I'm here to help answer your questions and provide information to the best of my ability. Is there something specific you would like to know or discuss?\n"
     ]
    }
   ],
   "source": [
    "prompt = \"Hey, are you conscious? Can you talk to me?\"\n",
    "\n",
    "inputs = tokenizer(prompt, return_tensors=\"pt\")\n",
    "generate_ids = model.generate(inputs.input_ids, max_length=4096, pad_token_id=tokenizer.eos_token_id)\n",
    "result = tokenizer.batch_decode(generate_ids, skip_special_tokens=True, clean_up_tokenization_spaces=False)\n",
    "print(result[0])"
   ]
  },
  {
   "cell_type": "markdown",
   "id": "4328080f-1bad-4112-b63c-7ccef1519266",
   "metadata": {},
   "source": [
    "## 1.2 GPU计算"
   ]
  },
  {
   "cell_type": "code",
   "execution_count": 2,
   "id": "4b40a992-c820-49c5-8edf-10e0a978a5d4",
   "metadata": {},
   "outputs": [
    {
     "data": {
      "application/vnd.jupyter.widget-view+json": {
       "model_id": "3e05d2ef7ea04833a19d2fcf0a710518",
       "version_major": 2,
       "version_minor": 0
      },
      "text/plain": [
       "Loading checkpoint shards:   0%|          | 0/3 [00:00<?, ?it/s]"
      ]
     },
     "metadata": {},
     "output_type": "display_data"
    }
   ],
   "source": [
    "import torch\n",
    "\n",
    "from transformers import LlamaForCausalLM, LlamaTokenizer\n",
    "\n",
    "tokenizer = LlamaTokenizer.from_pretrained(MODEL_PATH)\n",
    "model = LlamaForCausalLM.from_pretrained(MODEL_PATH, torch_dtype=torch.float16).to('cuda')"
   ]
  },
  {
   "cell_type": "code",
   "execution_count": 5,
   "id": "08eb41f8-a40d-4701-9f8c-9d75e5d7770a",
   "metadata": {},
   "outputs": [
    {
     "name": "stdout",
     "output_type": "stream",
     "text": [
      "Hey, are you conscious? Can you talk to me?\n",
      "\n",
      "I'm just an AI, I don't have consciousness or the ability to talk like a human. I'm here to help answer your questions and provide information to the best of my ability. Is there something specific you would like to know or discuss?\n"
     ]
    }
   ],
   "source": [
    "prompt = \"Hey, are you conscious? Can you talk to me?\"\n",
    "\n",
    "# Generate\n",
    "inputs = tokenizer(prompt, return_tensors=\"pt\")\n",
    "generate_ids = model.generate(inputs.input_ids.cuda(), max_length=4096, pad_token_id=tokenizer.eos_token_id)\n",
    "result = tokenizer.batch_decode(generate_ids, skip_special_tokens=True, clean_up_tokenization_spaces=False)\n",
    "print(result[0])"
   ]
  },
  {
   "cell_type": "markdown",
   "id": "7a07698c-0c1d-4d3c-bcbc-c1b336cda9b6",
   "metadata": {},
   "source": [
    "## 1.3 TextStreamer"
   ]
  },
  {
   "cell_type": "markdown",
   "id": "84b892c1-77d3-45ac-bcab-adc81891006b",
   "metadata": {},
   "source": [
    "定义一个TextStreamer对象"
   ]
  },
  {
   "cell_type": "code",
   "execution_count": 16,
   "id": "eefdabea-86d9-4c24-a76b-ab7559d6700c",
   "metadata": {},
   "outputs": [],
   "source": [
    "import torch\n",
    "from transformers import TextStreamer\n",
    "\n",
    "streamer = TextStreamer(tokenizer, skip_prompt=True, skip_special_tokens=True, pad_token_id=True)\n",
    "\n",
    "instruction = \"\"\"[INST] <<SYS>>\\nYou are a helpful, respectful and honest assistant. Always answer as helpfully as possible, while being safe. \n",
    "Your answers should not include any harmful, unethical, racist, sexist, toxic, dangerous, or illegal content. Please ensure that your responses are socially unbiased and positive in nature.\n",
    "If a question does not make any sense, or is not factually coherent, explain why instead of answering something not correct.\n",
    "If you don't know the answer to a question, please don't share false information.\\n<</SYS>>\\n\\n{} [/INST]\"\"\""
   ]
  },
  {
   "cell_type": "markdown",
   "id": "d7241a41-c433-4671-94e7-64d24fa483bb",
   "metadata": {},
   "source": [
    "A. 第1次调用"
   ]
  },
  {
   "cell_type": "code",
   "execution_count": 15,
   "id": "71bf637a-1056-4ed7-8358-fa0766946388",
   "metadata": {},
   "outputs": [
    {
     "name": "stdout",
     "output_type": "stream",
     "text": [
      "Thank you for asking! The result of 10 x 4 is 40. I'm here to help and provide accurate information, while being safe and respectful. Please let me know if you have any other questions!\n"
     ]
    }
   ],
   "source": [
    "prompt = instruction.format(\"what's the resulat of 10*4?\")\n",
    "inputs = tokenizer(prompt, return_tensors='pt').input_ids.cuda()\n",
    "generate_ids = model.generate(inputs, max_new_tokens=4096, pad_token_id=tokenizer.eos_token_id, streamer=streamer)"
   ]
  },
  {
   "cell_type": "markdown",
   "id": "473f8c58-8bf0-47a4-ae9e-36ce0861dc6e",
   "metadata": {},
   "source": [
    "B. 第2次调用"
   ]
  },
  {
   "cell_type": "code",
   "execution_count": 18,
   "id": "cb3651b1-54b3-4e04-9d75-dcd56aaf12f5",
   "metadata": {},
   "outputs": [
    {
     "name": "stdout",
     "output_type": "stream",
     "text": [
      "Thank you for your kind and respectful question! I'm happy to help you plan your trip to Beijing.\n",
      "The best time to visit Beijing depends on your preferences and what you want to experience. Beijing has a continental climate with four distinct seasons, and each season offers something unique. Here are some general guidelines to help you decide:\n",
      "Spring (March to May): This is a great time to visit Beijing if you want to avoid the crowds and enjoy mild weather. The temperatures are comfortable, with average highs around 15°C (59°F), and lows around 5°C (41°F). You can enjoy the city's blooming flowers, visit the famous Cherry Blossom Festival, and explore the city's many parks and gardens.\n",
      "Summer (June to August): Summer in Beijing can be hot and humid, with average highs around 28°C (82°F) and lows around 22°C (72°F). While it can be challenging to visit during this time, it's a great opportunity to experience the city's vibrant nightlife and cultural events. Be sure to stay hydrated and take breaks in the shade.\n",
      "Autumn (September to November): Autumn is a beautiful time in Beijing, with comfortable temperatures and stunning foliage. The average highs are around 18°C (64°F), and lows around 8°C (46°F). This is a great time to visit the city's many temples and gardens, and enjoy the city's cultural events.\n",
      "Winter (December to February): Beijing can be quite cold during the winter months, with average highs around 0°C (32°F) and lows around -10°C (14°F). However, the city's many indoor attractions and cultural events make it a great time to visit. Be sure to dress warmly and bundle up.\n",
      "As for suggestions, here are a few things you might consider:\n",
      "1. Visit the Forbidden City: This ancient palace is a must-see attraction in Beijing, and it's even more impressive during the spring and autumn months when the weather is mild.\n",
      "2. Explore the Hutongs: Beijing's historic Hutongs are a network of narrow streets and alleys that offer a glimpse into the city's past. Take a rickshaw tour or explore on your own to experience the local culture.\n",
      "3. Enjoy the city's nightlife: Beijing has a vibrant nightlife scene, with many bars, clubs, and restaurants to choose from. Be sure to try some of the city's famous street food and drinks.\n",
      "4. Visit the Great Wall: The Great Wall of China is a must-see attraction, and Beijing is the closest city to the wall. Take a day trip to the wall and enjoy the stunning views and history.\n",
      "5. Take a boat ride on the Li River: If you're looking for a more relaxing experience, consider taking a boat ride on the Li River. The river offers stunning views of the surrounding countryside and is a great way to escape the city's hustle and bustle.\n",
      "\n",
      "I hope these suggestions help you plan your trip to Beijing! If you have any other questions, please don't hesitate to ask.\n"
     ]
    }
   ],
   "source": [
    "# https://github.com/LinkSoul-AI/Chinese-Llama-2-7b\n",
    "\n",
    "prompt = instruction.format(\"When is the best time to visit Beijing, and do you have any suggestions for me?\")\n",
    "inputs = tokenizer(prompt, return_tensors='pt').input_ids.cuda()\n",
    "generate_ids = model.generate(inputs, max_new_tokens=4096, pad_token_id=tokenizer.eos_token_id, streamer=streamer)"
   ]
  },
  {
   "cell_type": "markdown",
   "id": "efd89658-daf1-4271-bbd1-5039052a9250",
   "metadata": {},
   "source": [
    "# 2 pipeline"
   ]
  },
  {
   "cell_type": "markdown",
   "id": "98c56f66-0f7a-431c-b279-d7cc0dcbcfa9",
   "metadata": {},
   "source": [
    "定义pipleline对象"
   ]
  },
  {
   "cell_type": "code",
   "execution_count": 2,
   "id": "13b97ac8-754a-4b6a-b478-4211f1e06785",
   "metadata": {},
   "outputs": [
    {
     "name": "stderr",
     "output_type": "stream",
     "text": [
      "You set `add_prefix_space`. The tokenizer needs to be converted from the slow tokenizers\n"
     ]
    },
    {
     "data": {
      "application/vnd.jupyter.widget-view+json": {
       "model_id": "d538acf8492c4e489c5506ba11f6a6ff",
       "version_major": 2,
       "version_minor": 0
      },
      "text/plain": [
       "Loading checkpoint shards:   0%|          | 0/3 [00:00<?, ?it/s]"
      ]
     },
     "metadata": {},
     "output_type": "display_data"
    }
   ],
   "source": [
    "import transformers\n",
    "import torch\n",
    "\n",
    "from transformers import AutoTokenizer\n",
    "\n",
    "tokenizer = AutoTokenizer.from_pretrained(MODEL_PATH)\n",
    "pipeline = transformers.pipeline(\n",
    "    \"text-generation\",\n",
    "    model=MODEL_PATH,\n",
    "    torch_dtype=torch.float16,\n",
    "    device_map=\"cuda\"\n",
    ")"
   ]
  },
  {
   "cell_type": "markdown",
   "id": "fb907978-aa5a-426c-ae8b-eb5a26555ea7",
   "metadata": {},
   "source": [
    "使用pipleline对象"
   ]
  },
  {
   "cell_type": "code",
   "execution_count": 4,
   "id": "6dfc5b64-6816-4b8c-afff-bd8659420ed9",
   "metadata": {},
   "outputs": [
    {
     "name": "stdout",
     "output_type": "stream",
     "text": [
      "Result: I liked \"Breaking Bad\" and \"Band of Brothers\". Do you have any recommendations of other shows I might like?\n",
      "\n",
      "Answer: Yes, I do! Based on your preferences, here are a few TV shows you might enjoy:\n",
      "\n",
      "1. \"The Sopranos\" - This HBO series is about a New Jersey mob boss, Tony Soprano, and his family. Like \"Breaking Bad,\" it explores themes of loyalty, family, and the blurred lines between right and wrong.\n",
      "2. \"Narcos\" - This Netflix series tells the true story of drug kingpin Pablo Escobar and the DEA agents tasked with bringing him down. If you enjoyed the gripping storytelling and morally complex characters of \"Breaking Bad,\" you'll likely enjoy \"Narcos\" too.\n",
      "3. \"The Wire\" - This HBO series explores the drug trade in Baltimore from multiple perspectives, including law enforcement, drug dealers, and politicians. Like \"Breaking Bad,\" it's known for its nuanced characters and complex storytelling.\n",
      "4. \"True Detective\" - This anthology series follows a different cast of characters and storylines each season, but they all explore themes of crime and redemption. If you enjoyed the slow-burning, psychologically complex storytelling of \"Breaking Bad,\" you might enjoy \"True Detective.\"\n",
      "5. \"Peaky Blinders\" - This BBC series is set in post-World War I England and follows a gangster family as they navigate the criminal underworld. If you enjoyed the period setting and complex characters of \"Band of Brothers,\" you might enjoy \"Peaky Blinders.\"\n",
      "I hope these recommendations are helpful! Let me know if you have any other questions.\n"
     ]
    }
   ],
   "source": [
    "sequences = pipeline(\n",
    "    'I liked \"Breaking Bad\" and \"Band of Brothers\". Do you have any recommendations of other shows I might like?\\n',\n",
    "    do_sample=True,\n",
    "    top_k=10,\n",
    "    num_return_sequences=1,\n",
    "    max_length=4096,\n",
    "    truncation=True,\n",
    "    eos_token_id=tokenizer.eos_token_id,\n",
    "    pad_token_id=tokenizer.eos_token_id\n",
    ")\n",
    "\n",
    "for seq in sequences:\n",
    "    print(f\"Result: {seq['generated_text']}\")"
   ]
  }
 ],
 "metadata": {
  "kernelspec": {
   "display_name": "Python 3 (ipykernel)",
   "language": "python",
   "name": "python3"
  },
  "language_info": {
   "codemirror_mode": {
    "name": "ipython",
    "version": 3
   },
   "file_extension": ".py",
   "mimetype": "text/x-python",
   "name": "python",
   "nbconvert_exporter": "python",
   "pygments_lexer": "ipython3",
   "version": "3.11.2"
  }
 },
 "nbformat": 4,
 "nbformat_minor": 5
}
