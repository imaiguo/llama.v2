{
 "cells": [
  {
   "cell_type": "markdown",
   "id": "eb9e7ebf-36f4-4924-80f5-2f7d2df8ab31",
   "metadata": {},
   "source": [
    "# Openai api"
   ]
  },
  {
   "cell_type": "markdown",
   "id": "c5c7051b-00b1-420c-ae00-3496ae6d5a57",
   "metadata": {},
   "source": [
    "# 1 设置访问对象"
   ]
  },
  {
   "cell_type": "code",
   "execution_count": 6,
   "id": "759cd94c-aede-47ef-a8cb-307be337bd66",
   "metadata": {},
   "outputs": [],
   "source": [
    "import json\n",
    "import platform\n",
    "\n",
    "from openai import OpenAI\n",
    "from loguru import logger\n",
    "\n",
    "if platform.system() == 'Windows':\n",
    "    url = \"http://192.168.2.198:9001\"\n",
    "else:\n",
    "    url = \"http://192.168.2.200:9000\"\n",
    "\n",
    "client = OpenAI(base_url=url, api_key = \"not need key\")"
   ]
  },
  {
   "cell_type": "markdown",
   "id": "ea4e1f55-350a-4997-8117-f7bca1abded7",
   "metadata": {},
   "source": [
    "# 2 调用函数封装"
   ]
  },
  {
   "cell_type": "code",
   "execution_count": 7,
   "id": "906f27a3-2712-4bf6-a598-a3e4aa6d9a05",
   "metadata": {},
   "outputs": [],
   "source": [
    "def get_completion(query: str, stream=False, max_retry=5):\n",
    "\n",
    "    params = dict(model=\"llama2\",\n",
    "                  messages=[{\"role\": \"user\", \"content\": query}],\n",
    "                  stream=stream,\n",
    "                  max_tokens=4096,\n",
    "                  temperature=0.8,\n",
    "                  top_p=0.8)\n",
    "\n",
    "    response = client.chat.completions.create(**params)\n",
    "\n",
    "    for _ in range(max_retry):\n",
    "        if not stream:\n",
    "            reply = response\n",
    "            logger.info(f\"Final Reply: \\n{reply}\")\n",
    "            print(f\"reply->{reply}\")\n",
    "            return\n",
    "\n",
    "        else:\n",
    "            output = \"\"\n",
    "            for chunk in response:\n",
    "                content = chunk.choices[0].delta.content or \"\"\n",
    "                print(content, end=\"\", flush=True)\n",
    "                output += content\n",
    "\n",
    "                if chunk.choices[0].finish_reason == \"stop\":\n",
    "                    return\n",
    "\n",
    "        response = client.chat.completions.create(**params)"
   ]
  },
  {
   "cell_type": "code",
   "execution_count": null,
   "id": "39d78d3e-1531-4701-98d1-cca96ef78e6f",
   "metadata": {},
   "outputs": [],
   "source": [
    "query = \"how are you?\"\n",
    "get_completion(query, stream=False)"
   ]
  }
 ],
 "metadata": {
  "kernelspec": {
   "display_name": "Python 3 (ipykernel)",
   "language": "python",
   "name": "python3"
  },
  "language_info": {
   "codemirror_mode": {
    "name": "ipython",
    "version": 3
   },
   "file_extension": ".py",
   "mimetype": "text/x-python",
   "name": "python",
   "nbconvert_exporter": "python",
   "pygments_lexer": "ipython3",
   "version": "3.10.11"
  }
 },
 "nbformat": 4,
 "nbformat_minor": 5
}
