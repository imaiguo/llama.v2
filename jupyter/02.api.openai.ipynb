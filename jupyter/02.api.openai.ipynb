{
 "cells": [
  {
   "cell_type": "markdown",
   "id": "eb9e7ebf-36f4-4924-80f5-2f7d2df8ab31",
   "metadata": {},
   "source": [
    "# Openai api"
   ]
  },
  {
   "cell_type": "code",
   "execution_count": 20,
   "id": "906f27a3-2712-4bf6-a598-a3e4aa6d9a05",
   "metadata": {},
   "outputs": [],
   "source": [
    "import json\n",
    "\n",
    "from openai import OpenAI\n",
    "from loguru import logger\n",
    "\n",
    "client = OpenAI(\n",
    "  base_url=\"http://192.168.2.200:8000\",\n",
    "  api_key = \"not need key\"\n",
    ")\n",
    "\n",
    "def get_completion(query: str, stream=False, max_retry=5):\n",
    "    params = dict(model=\"llama2\", messages=[{\"role\": \"user\", \"content\": query}], stream=stream, max_tokens=4096, temperature=0.8, top_p=0.8)\n",
    "\n",
    "    response = client.chat.completions.create(**params)\n",
    "\n",
    "    for _ in range(max_retry):\n",
    "        if not stream:\n",
    "            reply = response\n",
    "            logger.info(f\"Final Reply: \\n{reply}\")\n",
    "            # print(reply)\n",
    "            return\n",
    "\n",
    "        else:\n",
    "            output = \"\"\n",
    "            for chunk in response:\n",
    "                content = chunk.choices[0].delta.content or \"\"\n",
    "                print(content, end=\"\", flush=True)\n",
    "                output += content\n",
    "\n",
    "                if chunk.choices[0].finish_reason == \"stop\":\n",
    "                    return\n",
    "\n",
    "        response = client.chat.completions.create(**params)"
   ]
  },
  {
   "cell_type": "code",
   "execution_count": 21,
   "id": "39d78d3e-1531-4701-98d1-cca96ef78e6f",
   "metadata": {},
   "outputs": [
    {
     "name": "stderr",
     "output_type": "stream",
     "text": [
      "\u001b[32m2024-02-29 15:27:17.780\u001b[0m | \u001b[1mINFO    \u001b[0m | \u001b[36m__main__\u001b[0m:\u001b[36mget_completion\u001b[0m:\u001b[36m19\u001b[0m - \u001b[1mFinal Reply: \n",
      "ChatCompletion(id=None, choices=None, created=None, model=None, object=None, system_fingerprint=None, usage=None, response=\"Hello! I'm just an AI, I don't have feelings or emotions like humans do, but I'm here to help you with any questions or concerns you may have. How can I assist you today? Please keep in mind that I'm just an AI and I can't provide personal opinions or engage in discussions that promote harmful or unethical content. Is there anything else I can help you with?\", history=[[\"<<SYS>>\\nYou are a helpful, respectful and honest assistant. Always answer as helpfully as possible, while being safe.  Your answers should not include any harmful, unethical, racist, sexist, toxic, dangerous, or illegal content. Please ensure that your responses are socially unbiased and positive in nature.\\n\\n            If a question does not make any sense, or is not factually coherent, explain why instead of answering something not correct. If you don't know the answer to a question, please don't share false information.\\n<</SYS>>\\n\\nhow are you?\", \"Hello! I'm just an AI, I don't have feelings or emotions like humans do, but I'm here to help you with any questions or concerns you may have. How can I assist you today? Please keep in mind that I'm just an AI and I can't provide personal opinions or engage in discussions that promote harmful or unethical content. Is there anything else I can help you with?\"]], status=200, time='2024-02-29 15:27:17')\u001b[0m\n"
     ]
    }
   ],
   "source": [
    "query = \"how are you?\"\n",
    "get_completion(query, stream=False)"
   ]
  }
 ],
 "metadata": {
  "kernelspec": {
   "display_name": "Python 3 (ipykernel)",
   "language": "python",
   "name": "python3"
  },
  "language_info": {
   "codemirror_mode": {
    "name": "ipython",
    "version": 3
   },
   "file_extension": ".py",
   "mimetype": "text/x-python",
   "name": "python",
   "nbconvert_exporter": "python",
   "pygments_lexer": "ipython3",
   "version": "3.11.2"
  }
 },
 "nbformat": 4,
 "nbformat_minor": 5
}
