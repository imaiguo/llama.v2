{
 "cells": [
  {
   "cell_type": "markdown",
   "id": "00fa9799-232d-4001-9016-2faafbba298d",
   "metadata": {},
   "source": [
    "#  PyTorch\n",
    "\n",
    "llama2 model from Meta website\n",
    "\n",
    "<b>显存占用情况</b>\n",
    "\n",
    "全精度llama2 7B最低显存要求：28GB</br>\n",
    "全精度llama2 13B最低显存要求：52GB</br>\n",
    "全精度llama2 70B最低显存要求：280GB\n",
    "\n",
    "16精度llama2 7B预测最低显存要求：14GB</br>\n",
    "16精度llama2 13B预测最低显存要求：26GB</br>\n",
    "16精度llama2 70B预测最低显存要求：140GB\n",
    "\n",
    "8精度llama2 7B预测最低显存要求：7GB</br>\n",
    "8精度llama2 13B预测最低显存要求：13GB</br>\n",
    "8精度llama2 70B预测最低显存要求：70GB\n",
    "\n",
    "4精度llama2 7B预测最低显存要求：3.5GB</br>\n",
    "4精度llama2 13B预测最低显存要求：6.5GB</br>\n",
    "4精度llama2 70B预测最低显存要求：35GB"
   ]
  },
  {
   "cell_type": "markdown",
   "id": "a4eb760f-19cb-4bd6-a4ab-6161f9bc1056",
   "metadata": {},
   "source": [
    "# 1 pytorch方式加载"
   ]
  },
  {
   "cell_type": "markdown",
   "id": "f98b004d-9817-4c35-b0a0-e76aa1009cba",
   "metadata": {},
   "source": [
    "## 1.1 配置环境变量"
   ]
  },
  {
   "cell_type": "code",
   "execution_count": 1,
   "id": "d2e97144-14c7-4cf6-a353-cb2f077ef4ff",
   "metadata": {},
   "outputs": [],
   "source": [
    "import torch.distributed as dist\n",
    "import platform\n",
    "import os\n",
    "import sys\n",
    "\n",
    "from typing import List\n",
    "\n",
    "sys.path.append('../')\n",
    "from llama import Llama, Dialog\n",
    "\n",
    "os.environ['MASTER_ADDR'] = 'localhost'\n",
    "os.environ['MASTER_PORT'] = '5678'\n",
    "# os.environ[\"PL_TORCH_DISTRIBUTED_BACKEND\"] = \"gloo\"\n",
    "dist.init_process_group(backend='gloo', init_method='env://', rank = 0, world_size = 1)\n",
    "\n",
    "if platform.system() == \"Windows\":\n",
    "    ckpt_dir = \"E:/THUDM/llama2/model/llama-2-7b-chat\"\n",
    "    tokenizer_path = \"E:/THUDM/llama2/model/tokenizer.model\"\n",
    "else:\n",
    "    ckptDir = \"/opt/Data/THUDM/llama2/llama-2-7b-chat\"\n",
    "    tokenizerPath = \"/opt/Data/THUDM/llama2/tokenizer.model\""
   ]
  },
  {
   "cell_type": "markdown",
   "id": "693fa671-d53c-444b-929f-f673395ce5b4",
   "metadata": {},
   "source": [
    "## 1.2 导入参数模型\n",
    "\n",
    "占用 P40显存 21GB"
   ]
  },
  {
   "cell_type": "code",
   "execution_count": 2,
   "id": "6136da34-2f21-4ac7-b062-409789b409a1",
   "metadata": {},
   "outputs": [
    {
     "name": "stdout",
     "output_type": "stream",
     "text": [
      "> initializing model parallel with size 1\n",
      "> initializing ddp with size 1\n",
      "> initializing pipeline with size 1\n"
     ]
    },
    {
     "name": "stderr",
     "output_type": "stream",
     "text": [
      "/opt/Data/PythonVenv/llama2/lib/python3.11/site-packages/torch/__init__.py:696: UserWarning: torch.set_default_tensor_type() is deprecated as of PyTorch 2.1, please use torch.set_default_dtype() and torch.set_default_device() as alternatives. (Triggered internally at ../torch/csrc/tensor/python_tensor.cpp:451.)\n",
      "  _C._set_default_tensor_type(t)\n"
     ]
    },
    {
     "name": "stdout",
     "output_type": "stream",
     "text": [
      "Loaded in 16.89 seconds\n"
     ]
    }
   ],
   "source": [
    "generator = Llama.build(\n",
    "    ckpt_dir=ckptDir,\n",
    "    tokenizer_path=tokenizerPath,\n",
    "    max_seq_len=4096,\n",
    "    max_batch_size=4,\n",
    "    model_parallel_size = 1\n",
    ")"
   ]
  },
  {
   "cell_type": "markdown",
   "id": "59374453-b70e-4117-b496-5599a8482d0a",
   "metadata": {},
   "source": [
    "# 2 completion"
   ]
  },
  {
   "cell_type": "markdown",
   "id": "402fd671-935e-4f06-ab2d-89907e0531b7",
   "metadata": {},
   "source": [
    "函数声明"
   ]
  },
  {
   "cell_type": "code",
   "execution_count": 4,
   "id": "f288a8f9-efb0-45d2-a838-46940ac6109c",
   "metadata": {},
   "outputs": [],
   "source": [
    "def runCompletion(prompts: List[str]):\n",
    "    results = generator.text_completion(\n",
    "        prompts,\n",
    "        max_gen_len=4096,\n",
    "        temperature=0.6,\n",
    "        top_p=0.9\n",
    "    )\n",
    "\n",
    "    for prompt, result in zip(prompts, results):\n",
    "        # print(f\"user> {prompt}\")\n",
    "        print(f\"assistant > {result['generation']}\")"
   ]
  },
  {
   "cell_type": "markdown",
   "id": "b38576b3-b6d2-48c8-9798-8d0783f29951",
   "metadata": {},
   "source": [
    "<b>一个批次2个请求</b> [复杂问题] -> <b> 人生探讨 相对论解释</b>"
   ]
  },
  {
   "cell_type": "code",
   "execution_count": 5,
   "id": "7803a513-2e71-44cc-a09e-340ff9e8faa9",
   "metadata": {},
   "outputs": [
    {
     "name": "stdout",
     "output_type": "stream",
     "text": [
      "assistant > to find purpose, happiness, and fulfillment. Here are some reasons why:\n",
      "\n",
      "1. Purpose: Having a sense of purpose gives life meaning and direction. It helps individuals set goals and work towards achieving them, which can lead to a sense of fulfillment and satisfaction.\n",
      "2. Happiness: Happiness is a fundamental human need, and it is essential for overall well-being. Pursuing activities and experiences that bring joy and happiness can enhance life satisfaction and overall quality of life.\n",
      "3. Fulfillment: Fulfillment is the feeling of accomplishment that comes from achieving one's goals and pursuing one's passions. It is the sense of satisfaction and contentment that comes from living a life that is true to oneself.\n",
      "4. Personal growth: Personal growth and self-improvement are essential for a fulfilling life. Learning new skills, developing new habits, and overcoming challenges can help individuals grow and develop as people.\n",
      "5. Relationships: Strong relationships with family, friends, and loved ones are critical for a happy and fulfilling life. Social connections provide emotional support, companionship, and a sense of belonging.\n",
      "6. Contribution: Making a positive impact on the world and contributing to something larger than oneself can give life meaning and purpose. Giving back to the community, volunteering, or pursuing a career that benefits society can provide a sense of fulfillment and purpose.\n",
      "7. Experience: Experiencing new things, exploring new places, and trying new activities can add richness and depth to life. Traveling, learning new cultures, and engaging in new hobbies can broaden horizons and create lasting memories.\n",
      "8. Gratitude: Practicing gratitude and appreciation for the good things in life can help individuals cultivate a positive mindset and appreciate the beauty of life. Focusing on the present moment and expressing gratitude for what one has can lead to greater happiness and fulfillment.\n",
      "9. Mindfulness: Being present and mindful in the moment can help individuals appreciate the beauty of life and find joy in everyday experiences. Practicing mindfulness can help reduce stress and increase overall well-being.\n",
      "10. Legacy: Leaving a lasting legacy that reflects one's values and passions can give life meaning and purpose beyond one's own lifespan. Creating something that will outlast oneself can provide a sense of fulfillment and purpose.\n",
      "\n",
      "In conclusion, finding purpose, happiness, and fulfillment in life is a personal and ongoing journey. It requires self-awareness, self-reflection, and a willingness to continuously grow and adapt. By pursuing activities and experiences that bring joy and fulfillment, individuals can create a meaningful and fulfilling life that reflects their values and passions.\n",
      "assistant > 1) the laws of physics are the same for all observers in uniform motion relative to one another, and 2) the speed of light is always constant, regardless of the motion of the observer.\n",
      "Einstein's theory of relativity revolutionized our understanding of space and time. Here are some key concepts and implications of the theory:\n",
      "1. Time dilation: Time appears to pass more slowly for an observer in motion relative to a stationary observer. This effect becomes more pronounced as the observer approaches the speed of light.\n",
      "2. Length contraction: Objects appear shorter to an observer in motion relative to a stationary observer. This effect also becomes more pronounced as the observer approaches the speed of light.\n",
      "3. Relativity of simultaneity: Two events that are simultaneous for one observer may not be simultaneous for another observer in a different state of motion.\n",
      "4. Equivalence of mass and energy: Mass and energy are interchangeable, as expressed in the famous equation E=mc^2.\n",
      "5. Speed of light is constant: The speed of light is always constant, regardless of the motion of the observer.\n",
      "6. Invariance of the speed of light: The speed of light is the same for all observers, regardless of their relative motion.\n",
      "7. Lorentz transformations: The theory of relativity predicts how the space and time coordinates of an event will appear to different observers in different states of motion. These transformations are known as Lorentz transformations.\n",
      "8. Relativity of simultaneity: Two events that are simultaneous for one observer may not be simultaneous for another observer in a different state of motion.\n",
      "9. Time dilation: Time appears to pass more slowly for an observer in motion relative to a stationary observer.\n",
      "10. Length contraction: Objects appear shorter to an observer in motion relative to a stationary observer.\n",
      "The theory of relativity has many implications for our understanding of the universe, including the following:\n",
      "1. Black holes: The theory of relativity predicts the existence of black holes, which are regions of space where the gravitational pull is so strong that not even light can escape.\n",
      "2. Cosmology: The theory of relativity has led to a greater understanding of the structure and evolution of the universe, including the expansion of the universe and the formation of galaxies.\n",
      "3. Particle physics: The theory of relativity has played a crucial role in the development of particle physics, particularly in the study of subatomic particles such as electrons and protons.\n",
      "4. GPS technology: The theory of relativity is used in the development of GPS technology, which relies on the precise measurement of time and position.\n",
      "5. High-energy physics: The theory of relativity has led to a greater understanding of high-energy phenomena, such as the behavior of neutrons and protons in particle accelerators.\n",
      "6. Gravitational waves: The theory of relativity predicts the existence of gravitational waves, which are ripples in the fabric of spacetime that are produced by the movement of massive objects.\n",
      "7. Quantum mechanics: The theory of relativity has also had an impact on the development of quantum mechanics, which is a branch of physics that deals with the behavior of matter and energy at the atomic and subatomic level.\n",
      "8. Cosmic rays: The theory of relativity has led to a greater understanding of cosmic rays, which are high-energy particles that originate from outside the solar system.\n",
      "9. Neutron stars: The theory of relativity predicts the existence of neutron stars, which are incredibly dense objects that are formed when a star undergoes a supernova explosion.\n",
      "10. Dark matter: The theory of relativity has also led to a greater understanding of dark matter, which is a type of matter that does not emit or reflect light and is thought to make up a large portion of the universe.\n",
      "In conclusion, the theory of relativity is a fundamental concept in modern physics that has revolutionized our understanding of space and time. Its implications are far-reaching, and it has led to many important discoveries and advancements in fields such as cosmology, particle physics, and GPS technology.\n"
     ]
    }
   ],
   "source": [
    "prompts: List[str] = [\n",
    "    # For these prompts, the expected answer is the natural continuation of the prompt\n",
    "    \"I believe the meaning of life is\",\n",
    "    \"Simply put, the theory of relativity states that \"\n",
    "]\n",
    "\n",
    "runCompletion(prompts)"
   ]
  },
  {
   "cell_type": "markdown",
   "id": "a588003e-a170-471d-b590-ad89a183f170",
   "metadata": {},
   "source": [
    "<b>一个批次1个请求</b>"
   ]
  },
  {
   "cell_type": "code",
   "execution_count": 5,
   "id": "6b4fcc60-9392-442e-8944-8e44befea31d",
   "metadata": {},
   "outputs": [
    {
     "name": "stdout",
     "output_type": "stream",
     "text": [
      "assistant > because I've got a new computer! It's a lovely shiny MacBook Pro and I'm excited to start using it. Here's a picture of me with my new computer:\n",
      "\n",
      "📸\n",
      "\n",
      "I'm so glad I was able to get my hands on this amazing device. It's going to make my life so much easier and more enjoyable. I can't wait to start working on my projects and creating new things. This computer is going to be a game changer for me! 😍\n",
      "\n",
      "What do you think of my new computer? Let me know in the comments below! 💬\n",
      "\n",
      "👉 Follow me for more tech-related content and updates! 📱💻\n"
     ]
    }
   ],
   "source": [
    "prompts: List[str] = [\n",
    "    \"I'm happy today\",\n",
    "]\n",
    "\n",
    "result = runCompletion(prompts)"
   ]
  },
  {
   "cell_type": "markdown",
   "id": "9fa9b062-c967-4b6d-81d9-0acc8039e17d",
   "metadata": {},
   "source": [
    "# 3 chat调用"
   ]
  },
  {
   "cell_type": "markdown",
   "id": "91dc4c69-384f-4feb-82a1-fe84de74c656",
   "metadata": {},
   "source": [
    "函数声明"
   ]
  },
  {
   "cell_type": "code",
   "execution_count": 3,
   "id": "9bf9d6f6-7f25-4bad-9d7a-4a9715457af3",
   "metadata": {},
   "outputs": [],
   "source": [
    "def runChat(prompts):\n",
    "    results = generator.chat_completion(\n",
    "        prompts,\n",
    "        max_gen_len=4096,\n",
    "        temperature=0.6,\n",
    "        top_p=0.9\n",
    "    )\n",
    "\n",
    "    for dialog, result in zip(dialogs, results):\n",
    "        # for msg in dialog:\n",
    "        #     print(f\"{msg['role'].capitalize()}>: {msg['content']}\")\n",
    "\n",
    "        print(f\"\\n{result['generation']['role'].capitalize()}>: {result['generation']['content']}\"\n",
    "        )\n",
    "\n",
    "    return result"
   ]
  },
  {
   "cell_type": "markdown",
   "id": "b470febb-548f-4772-a921-238ef97a42dd",
   "metadata": {},
   "source": [
    "<b>一个批次3个请求</b>"
   ]
  },
  {
   "cell_type": "code",
   "execution_count": 23,
   "id": "4054ddf6-da9f-466a-b439-0f05aeee4434",
   "metadata": {},
   "outputs": [
    {
     "name": "stdout",
     "output_type": "stream",
     "text": [
      "\n",
      "Assistant>:  Mayonnaise is a thick, creamy condiment made from a mixture of egg yolks, oil, vinegar or lemon juice, and seasonings. Here is a basic recipe for homemade mayonnaise:\n",
      "Ingredients:\n",
      "* 2 egg yolks\n",
      "* 1/2 cup (120 ml) neutral-tasting oil, such as canola or grapeseed\n",
      "* 1 tablespoon (15 ml) vinegar or lemon juice\n",
      "* 1/2 teaspoon (2.5 ml) salt\n",
      "* 1/4 teaspoon (1.25 ml) sugar (optional)\n",
      "Instructions:\n",
      "1. In a small bowl, whisk together the egg yolks and salt until well combined.\n",
      "2. Slowly pour the oil into the egg yolk mixture while continuously whisking. The mixture should thicken and emulsify as you add the oil.\n",
      "3. Once you have added about half of the oil, add the vinegar or lemon juice and continue whisking until the mixture is smooth and creamy.\n",
      "4. Taste and adjust the seasoning as needed. If the mayonnaise is too thick, add a little more oil. If it's too thin, add a little more vinegar or lemon juice.\n",
      "5. Cover the bowl with plastic wrap and refrigerate the mayonnaise for at least 30 minutes before serving. This will allow the flavors to meld together and the mayonnaise to thicken further.\n",
      "That's it! You can use this basic recipe as a starting point and adjust the seasonings and flavorings to suit your taste preferences. Some common variations include adding mustard, garlic, or herbs to the mayonnaise for added flavor. Enjoy!\n",
      "\n",
      "Assistant>:  The Eiffel Tower is considered one of the most iconic landmarks in the world, and there are several reasons why it's so great:\n",
      "1. Unique Design: The Eiffel Tower's unique design, with its lattice-like structure and iron beams, makes it a striking and recognizable landmark. It was revolutionary when it was first built in the late 19th century and has since become an symbol of Paris and France.\n",
      "2. Panoramic Views: The Eiffel Tower offers stunning panoramic views of the city of Paris, which can be seen from its observation decks on the first and second floors. Visitors can see many of the city's famous landmarks, such as the Louvre Museum, the Arc de Triomphe, and the Notre-Dame Cathedral, from a unique perspective.\n",
      "3. Historical Significance: The Eiffel Tower was built for the 1889 World's Fair in Paris and was originally intended to be a temporary structure. However, it became an instant icon of the city and has since become a symbol of French culture and history.\n",
      "4. Romantic Atmosphere: The Eiffel Tower is often associated with romance and is a popular destination for couples. The tower's elegant design and the stunning views of the city make it a romantic setting for a special occasion.\n",
      "5. Accessibility: The Eiffel Tower is easily accessible by public transportation, and there are several entrances to the tower, making it easy for visitors to find their way around.\n",
      "6. Nighttime Views: The Eiffel Tower is particularly beautiful at night, when it is illuminated by thousands of lights. Visitors can enjoy the tower's beauty during the day or at night, and there are special events and shows that take place at the tower throughout the year.\n",
      "7. Cultural Significance: The Eiffel Tower has become a cultural icon, symbolizing French culture and sophistication around the world. It has been featured in countless films, books, and other works of art, and is often used as a symbol of Paris and France in general.\n",
      "8. Educational Value: The Eiffel Tower offers educational opportunities for visitors, with exhibits and interactive displays that provide information about the tower's history, design, and engineering. Visitors can learn about the tower's construction, its significance in French history, and its cultural impact around the world.\n",
      "9. Fun Activities: The Eiffel Tower offers a range of fun activities for visitors, including a lift ride to the top of the tower, a visit to the observation decks, and a chance to dine at the tower's restaurant. Visitors can also enjoy the tower's gardens, which are open to the public during the summer months.\n",
      "10. Iconic Symbol: The Eiffel Tower is an iconic symbol of Paris and France, and is recognized around the world as a symbol of French culture and sophistication. It is a must-see destination for anyone visiting Paris, and is an experience that is not to be missed.\n",
      "\n",
      "Assistant>:  Eiffel Tower high\n",
      "Love locks on Seine's shore\n",
      "Art, food, and romance\n"
     ]
    }
   ],
   "source": [
    "dialogs: List[Dialog] = [\n",
    "    [{\"role\": \"user\", \"content\": \"what is the recipe of mayonnaise?\"}],\n",
    "    [\n",
    "        {\"role\": \"user\", \"content\": \"I am going to Paris, what should I see?\"},\n",
    "        {\n",
    "            \"role\": \"assistant\",\n",
    "            \"content\": \"\"\"\n",
    "Paris, the capital of France, is known for its stunning architecture, art museums, historical landmarks, and romantic atmosphere. Here are some of the top attractions to see in Paris:\n",
    "\n",
    "1. The Eiffel Tower: The iconic Eiffel Tower is one of the most recognizable landmarks in the world and offers breathtaking views of the city.\n",
    "2. The Louvre Museum: The Louvre is one of the world's largest and most famous museums, housing an impressive collection of art and artifacts, including the Mona Lisa.\n",
    "3. Notre-Dame Cathedral: This beautiful cathedral is one of the most famous landmarks in Paris and is known for its Gothic architecture and stunning stained glass windows.\n",
    "\n",
    "These are just a few of the many attractions that Paris has to offer. With so much to see and do, it's no wonder that Paris is one of the most popular tourist destinations in the world.\"\"\",\n",
    "        },\n",
    "        {\"role\": \"user\", \"content\": \"What is so great about #1?\"},\n",
    "    ],\n",
    "    [\n",
    "        {\"role\": \"system\", \"content\": \"Always answer with Haiku\"},\n",
    "        {\"role\": \"user\", \"content\": \"I am going to Paris, what should I see?\"},\n",
    "    ]\n",
    "]\n",
    "\n",
    "result = runChat(dialogs)"
   ]
  },
  {
   "cell_type": "markdown",
   "id": "1ca6bf87-593f-40d3-956c-c387de117e41",
   "metadata": {},
   "source": [
    "<b>一个批次1个请求</b>"
   ]
  },
  {
   "cell_type": "code",
   "execution_count": 22,
   "id": "83268d40-48d6-47b5-bf63-2e351d0fed23",
   "metadata": {},
   "outputs": [
    {
     "name": "stdout",
     "output_type": "stream",
     "text": [
      "\n",
      "Assistant>:  Eiffel Tower high\n",
      "Love locks on bridge embrace\n",
      "City of light, beauty\n"
     ]
    }
   ],
   "source": [
    "dialogs: List[Dialog] = [\n",
    "    [\n",
    "        {\"role\": \"system\", \"content\": \"Always answer with Haiku\"},\n",
    "        {\"role\": \"user\", \"content\": \"I am going to Paris, what should I see?\"}\n",
    "    ]\n",
    "]\n",
    "\n",
    "result = runChat(dialogs)"
   ]
  },
  {
   "cell_type": "markdown",
   "id": "0cc62f21-3458-4338-905e-a5fd2c3ce223",
   "metadata": {},
   "source": [
    "<b> 一个批次1个请求 </b>"
   ]
  },
  {
   "cell_type": "code",
   "execution_count": 4,
   "id": "fb6a9945-f018-4939-b193-f1be00500416",
   "metadata": {},
   "outputs": [
    {
     "name": "stdout",
     "output_type": "stream",
     "text": [
      "\n",
      "Assistant>:  Nanjing, the capital city of Jiangsu Province in Eastern China, is a city with a rich history and cultural heritage. Here are some of the top attractions and experiences you should consider adding to your itinerary when visiting Nanjing:\n",
      "1. The Purple Mountain (Zhongshan Scenic Area) - This mountain range is home to numerous historical sites, temples, and shrines, including the Ming Xiaoling Mausoleum, the tomb of the Ming dynasty's first emperor, Zhu Yuanzhang.\n",
      "2. The Nanjing City Wall - This well-preserved ancient city wall is one of the best-preserved in China and offers stunning views of the city. You can walk or bike along the wall for a glimpse into Nanjing's history.\n",
      "3. The Confucius Temple (Fuzimiao) - This historic temple is dedicated to the famous Chinese philosopher Confucius and features a number of impressive buildings, including the largest Confucian temple in China.\n",
      "4. The Ming Xiaoling Mausoleum - This UNESCO World Heritage Site is the tomb of the Ming dynasty's first emperor, Zhu Yuanzhang, and features stunning architecture and beautiful gardens.\n",
      "5. The Nanjing Museum - This museum is home to a vast collection of cultural relics and artifacts, including ancient porcelain, bronze, and calligraphy.\n",
      "6. The Xinjiaowan Scenic Area - This scenic area features a number of natural attractions, including the Xinjiaowan Beach, the Xinjiaowan Lake, and the surrounding hills and forests.\n",
      "7. The Gulou District - This historic district is home to a number of ancient buildings, temples, and shrines, including the famous Nanjing City Wall and the Ming Xiaoling Mausoleum.\n",
      "8. The Qinhuai River - Take a stroll along the scenic Qinhuai River, which runs through the heart of Nanjing and offers beautiful views of the city's skyline and historic landmarks.\n",
      "9. The Nanjing Night Market - Experience the local culture and cuisine at the bustling Nanjing Night Market, which offers a wide range of street food, souvenirs, and traditional crafts.\n",
      "10. The Sun Yat-sen Memorial Hall - This museum is dedicated to the life and legacy of Sun Yat-sen, the founder of modern China, and features a number of exhibits and artifacts related to his life and work.\n",
      "These are just a few of the many attractions and experiences that Nanjing has to offer. Depending on your interests and preferences, you may also want to consider visiting the Nanjing Art Museum, the Nanjing Library, or taking a boat tour of the city's canals and waterways.\n"
     ]
    }
   ],
   "source": [
    "dialogs: List[Dialog] = [\n",
    "    [\n",
    "        {\"role\": \"system\", \"content\": \"Answer the question carefully\"},\n",
    "        {\"role\": \"user\", \"content\": \"I am going to Nanjing, what should I see?\"}\n",
    "    ]\n",
    "]\n",
    "\n",
    "result = runChat(dialogs)"
   ]
  }
 ],
 "metadata": {
  "kernelspec": {
   "display_name": "Python 3 (ipykernel)",
   "language": "python",
   "name": "python3"
  },
  "language_info": {
   "codemirror_mode": {
    "name": "ipython",
    "version": 3
   },
   "file_extension": ".py",
   "mimetype": "text/x-python",
   "name": "python",
   "nbconvert_exporter": "python",
   "pygments_lexer": "ipython3",
   "version": "3.10.11"
  }
 },
 "nbformat": 4,
 "nbformat_minor": 5
}
