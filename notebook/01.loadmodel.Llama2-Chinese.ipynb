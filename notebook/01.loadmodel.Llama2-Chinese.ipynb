{
 "cells": [
  {
   "cell_type": "markdown",
   "id": "fbcc7a79-5f25-4b72-8b14-074a662e8421",
   "metadata": {},
   "source": [
    "# 1 Lora 微调版本加载\n",
    "\n",
    "合并参数 Llama2-Chinese-13b-Chat"
   ]
  },
  {
   "cell_type": "markdown",
   "id": "196d29f1-e255-4088-8e54-1b042d7bd810",
   "metadata": {},
   "source": [
    "## 1.1 环境配置"
   ]
  },
  {
   "cell_type": "code",
   "execution_count": 2,
   "id": "c058fbc1-0933-464a-b2db-ee62675d2488",
   "metadata": {},
   "outputs": [],
   "source": [
    "import platform\n",
    "MODELPATH = \"/opt/Data/ModelWeight/FlagAlpha/Llama2-Chinese-7b-Chat\""
   ]
  },
  {
   "cell_type": "markdown",
   "id": "17bdc074-2377-4957-9974-698b86f260ed",
   "metadata": {},
   "source": [
    "## 1.2 权值加载"
   ]
  },
  {
   "cell_type": "code",
   "execution_count": 3,
   "id": "3eba21ba-10da-4bd7-b606-146c5b4419b4",
   "metadata": {},
   "outputs": [
    {
     "name": "stdout",
     "output_type": "stream",
     "text": [
      "Running on GPU with backend torch transformers.\n"
     ]
    },
    {
     "data": {
      "application/vnd.jupyter.widget-view+json": {
       "model_id": "778c3473797541308cc54ff3d187f6c1",
       "version_major": 2,
       "version_minor": 0
      },
      "text/plain": [
       "Loading checkpoint shards:   0%|          | 0/2 [00:00<?, ?it/s]"
      ]
     },
     "metadata": {},
     "output_type": "display_data"
    }
   ],
   "source": [
    "from llama2_wrapper import LLAMA2_WRAPPER, get_prompt, get_prompt_for_dialog\n",
    "\n",
    "llm = LLAMA2_WRAPPER(\n",
    "\tmodel_path = MODELPATH,\n",
    "    backend_type = \"transformers\",\n",
    "    load_in_8bit = False\n",
    ")"
   ]
  },
  {
   "cell_type": "markdown",
   "id": "8f47855e-0d38-4d46-a817-06decb747296",
   "metadata": {},
   "source": [
    "## 1.3 文本生成"
   ]
  },
  {
   "cell_type": "code",
   "execution_count": 4,
   "id": "a4a29ee1-da78-4dde-a8da-4aea5f5783b6",
   "metadata": {},
   "outputs": [
    {
     "name": "stderr",
     "output_type": "stream",
     "text": [
      "/opt/Data/PythonVenv/llama2/lib/python3.11/site-packages/transformers/generation/utils.py:1270: UserWarning: You have modified the pretrained model configuration to control generation. This is a deprecated strategy to control generation and will be removed soon, in a future version. Please use a generation configuration file (see https://huggingface.co/docs/transformers/main_classes/text_generation )\n",
      "  warnings.warn(\n"
     ]
    },
    {
     "name": "stdout",
     "output_type": "stream",
     "text": [
      " 登上火星是一项非常极端的挑战，目前还没有成功实现。然而，很多国家和组织正在努力开发技术和计划，以便在未来实现人类登上火星的目标。\n",
      "\n",
      "以下是一些可能的登上火星的方法：\n",
      "\n",
      "1. 使用火星轨道器：火星轨道器可以在火星上空探测，并在某些时间点进行着陆。这些轨道器可以用来搜寻登陆地点，并在登陆后提供支持。\n",
      "\n",
      "2. 使用火星着陆器：火星着陆器可以在火星表面进行着陆，并提供支持。这些着陆器可以用来搜寻登陆地点，并在登陆后提供支持。\n",
      "\n",
      "3. 使用火星探测器：火星探测器可以在火星表面进行探测，并提供支持。这些探测器可以用来搜寻登陆地点，并在登陆后提供支持。\n",
      "\n",
      "4. 使用火星漫游器：火星漫游器可以在火星表面进行漫游，并提供支持。这些漫游器可以用来搜寻登陆地点，并在登陆后提供支持。\n",
      "\n",
      "5. 使用火星探索器：火星探索器可以在火星表面进行探索，并提供支持。这些探索器可以用来搜寻登陆地点，并在登陆后提供支持。\n",
      "\n",
      "无论哪种方法，登上火星都需要很多时间和资金。目前，尚未有任何国家或组织成功实现了登上火星的目标。\n"
     ]
    }
   ],
   "source": [
    "prompt = \"怎么登上火星\"\n",
    "answer = llm(get_prompt(prompt), temperature=1.0, max_new_tokens=4096)\n",
    "print(answer)"
   ]
  },
  {
   "cell_type": "code",
   "execution_count": null,
   "id": "fb961762-9917-4193-9185-967e0be9cb26",
   "metadata": {},
   "outputs": [],
   "source": [
    "prompt = get_prompt(\"你了解Pytorch吗?\")\n",
    "for response in llm.generate(prompt):\n",
    "\tprint(response)"
   ]
  }
 ],
 "metadata": {
  "kernelspec": {
   "display_name": "Python 3 (ipykernel)",
   "language": "python",
   "name": "python3"
  },
  "language_info": {
   "codemirror_mode": {
    "name": "ipython",
    "version": 3
   },
   "file_extension": ".py",
   "mimetype": "text/x-python",
   "name": "python",
   "nbconvert_exporter": "python",
   "pygments_lexer": "ipython3",
   "version": "3.11.2"
  }
 },
 "nbformat": 4,
 "nbformat_minor": 5
}
