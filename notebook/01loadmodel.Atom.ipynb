{
 "cells": [
  {
   "cell_type": "markdown",
   "id": "ed799747-dd54-43a6-9983-191289cbbb51",
   "metadata": {},
   "source": [
    "# 全量微调 中文预训练模型"
   ]
  },
  {
   "cell_type": "markdown",
   "id": "bfb95edb-07e7-4e1e-8c94-e513e4d11391",
   "metadata": {},
   "source": [
    "## 2.1 环境设置"
   ]
  },
  {
   "cell_type": "code",
   "execution_count": 1,
   "id": "1abd2510-993b-419a-98f1-1fd939adec5e",
   "metadata": {},
   "outputs": [],
   "source": [
    "import platform\n",
    "MODEL_PATH = \"/opt/Data/ModelWeight/FlagAlpha/Atom-7B-Chat\""
   ]
  },
  {
   "cell_type": "markdown",
   "id": "93a51edb-5eef-4014-8435-89050d65198f",
   "metadata": {},
   "source": [
    "## 2.2 模型权重加载"
   ]
  },
  {
   "cell_type": "code",
   "execution_count": 2,
   "id": "5d9a3848-61d5-4d91-962b-5d1c5d75b202",
   "metadata": {},
   "outputs": [
    {
     "data": {
      "application/vnd.jupyter.widget-view+json": {
       "model_id": "4e46a5cf3bbb495eb8861abcfe96c14b",
       "version_major": 2,
       "version_minor": 0
      },
      "text/plain": [
       "Loading checkpoint shards:   0%|          | 0/3 [00:00<?, ?it/s]"
      ]
     },
     "metadata": {},
     "output_type": "display_data"
    },
    {
     "name": "stderr",
     "output_type": "stream",
     "text": [
      "Some weights of LlamaForCausalLM were not initialized from the model checkpoint at /opt/Data/ModelWeight/FlagAlpha/Atom-7B-Chat and are newly initialized: ['model.layers.19.self_attn.rotary_emb.inv_freq', 'model.layers.29.self_attn.rotary_emb.inv_freq', 'model.layers.20.self_attn.rotary_emb.inv_freq', 'model.layers.4.self_attn.rotary_emb.inv_freq', 'model.layers.9.self_attn.rotary_emb.inv_freq', 'model.layers.21.self_attn.rotary_emb.inv_freq', 'model.layers.10.self_attn.rotary_emb.inv_freq', 'model.layers.16.self_attn.rotary_emb.inv_freq', 'model.layers.3.self_attn.rotary_emb.inv_freq', 'model.layers.11.self_attn.rotary_emb.inv_freq', 'model.layers.5.self_attn.rotary_emb.inv_freq', 'model.layers.22.self_attn.rotary_emb.inv_freq', 'model.layers.15.self_attn.rotary_emb.inv_freq', 'model.layers.8.self_attn.rotary_emb.inv_freq', 'model.layers.14.self_attn.rotary_emb.inv_freq', 'model.layers.23.self_attn.rotary_emb.inv_freq', 'model.layers.18.self_attn.rotary_emb.inv_freq', 'model.layers.25.self_attn.rotary_emb.inv_freq', 'model.layers.6.self_attn.rotary_emb.inv_freq', 'model.layers.7.self_attn.rotary_emb.inv_freq', 'model.layers.1.self_attn.rotary_emb.inv_freq', 'model.layers.2.self_attn.rotary_emb.inv_freq', 'model.layers.17.self_attn.rotary_emb.inv_freq', 'model.layers.28.self_attn.rotary_emb.inv_freq', 'model.layers.24.self_attn.rotary_emb.inv_freq', 'model.layers.31.self_attn.rotary_emb.inv_freq', 'model.layers.12.self_attn.rotary_emb.inv_freq', 'model.layers.27.self_attn.rotary_emb.inv_freq', 'model.layers.0.self_attn.rotary_emb.inv_freq', 'model.layers.26.self_attn.rotary_emb.inv_freq', 'model.layers.30.self_attn.rotary_emb.inv_freq', 'model.layers.13.self_attn.rotary_emb.inv_freq']\n",
      "You should probably TRAIN this model on a down-stream task to be able to use it for predictions and inference.\n",
      "You are using the legacy behaviour of the <class 'transformers.models.llama.tokenization_llama.LlamaTokenizer'>. This means that tokens that come after special tokens will not be properly handled. We recommend you to read the related pull request available at https://github.com/huggingface/transformers/pull/24565\n"
     ]
    }
   ],
   "source": [
    "import torch\n",
    "from transformers import AutoTokenizer, AutoModelForCausalLM\n",
    "\n",
    "model = AutoModelForCausalLM.from_pretrained(MODEL_PATH,\n",
    "                                             device_map=\"cuda:0\",\n",
    "                                             torch_dtype=torch.float16,\n",
    "                                             load_in_8bit=False) # use_flash_attention_2=True trust_remote_code=True\n",
    "model =model.eval()\n",
    "\n",
    "tokenizer = AutoTokenizer.from_pretrained(MODEL_PATH, use_fast=False)\n",
    "tokenizer.pad_token = tokenizer.eos_token"
   ]
  },
  {
   "cell_type": "markdown",
   "id": "f70a47e5-b0b9-4a8f-8623-d43d15c8bf13",
   "metadata": {},
   "source": [
    "## 2.3 生成调用\n",
    "\n",
    "格式上有要求:\n",
    "\n",
    "```bash\n",
    "<s>Human: 你好，介绍一下南京\\n</s><s>Assistant: \n",
    "```"
   ]
  },
  {
   "cell_type": "code",
   "execution_count": 5,
   "id": "b2571ec0-f374-40cc-8583-51383c326bd8",
   "metadata": {},
   "outputs": [
    {
     "name": "stdout",
     "output_type": "stream",
     "text": [
      "<s> Human: 你好，介绍一下南京\n",
      "</s><s> Assistant: 嗨，南京是一个历史悠久的城市，位于中国东部，长江下游。南京是中国四大古都之一，也是中国重要的历史文化名城。南京有着丰富的历史文化遗产，如南京夫子庙、南京中山陵、南京总统府等。南京也是中国重要的经济中心之一，有着发达的制造业和物流业。南京还是中国重要的交通枢纽之一，有着发达的铁路、公路和航空运输网络。总的来说，南京是一个历史悠久、文化底蕴深厚、经济实力雄厚、交通便利的城市。\n",
      "</s>\n"
     ]
    }
   ],
   "source": [
    "prompt = ['<s>Human: 你好，介绍一下南京\\n</s><s>Assistant: ']\n",
    "\n",
    "# prompt = ['<s>Human: 你好啊\\n</s><s>Assistant: ']\n",
    "\n",
    "input_ids = tokenizer(prompt, return_tensors=\"pt\", add_special_tokens=False)\n",
    "\n",
    "generate_input = {\n",
    "    \"input_ids\":input_ids.input_ids.to('cuda'),\n",
    "    \"max_new_tokens\":4096,\n",
    "    \"top_k\":50,\n",
    "    \"top_p\":0.95,\n",
    "    \"temperature\":1.0,\n",
    "    # \"repetition_penalty\":1.3,\n",
    "    \"eos_token_id\":tokenizer.eos_token_id,\n",
    "    \"bos_token_id\":tokenizer.bos_token_id,\n",
    "    \"pad_token_id\":tokenizer.pad_token_id\n",
    "}\n",
    "\n",
    "generate_ids  = model.generate(**generate_input)\n",
    "\n",
    "text = tokenizer.decode(generate_ids[0])\n",
    "print(text)"
   ]
  },
  {
   "cell_type": "code",
   "execution_count": 18,
   "id": "f0057266-5973-401d-b855-6ed62d4e481f",
   "metadata": {},
   "outputs": [
    {
     "name": "stdout",
     "output_type": "stream",
     "text": [
      "嗨，南京是一个历史悠久的城市，位于中国东部，长江下游。南京是中国四大古都之一，也是中国重要的历史文化名城。南京有着丰富的历史文化遗产，如南京夫子庙、南京中山陵、南京总统府等。南京也是中国重要的经济中心之一，有着发达的制造业和物流业。南京还是中国重要的交通枢纽之一，有着发达的铁路、公路和航空运输网络。总的来说，南京是一个历史悠久、文化底蕴深厚、经济实力雄厚、交通便利的城市。\n",
      "\n"
     ]
    }
   ],
   "source": [
    "def tripStr(text):\n",
    "    assist = \"Assistant: \"\n",
    "    if assist in text:\n",
    "        pos = text.index(assist) + len(assist)\n",
    "        data = text[pos:len(text)]\n",
    "        data=data.replace(\"</s>\",\"\")\n",
    "        return data\n",
    "\n",
    "    return text\n",
    "\n",
    "data = tripStr(text)\n",
    "print(data)"
   ]
  },
  {
   "cell_type": "code",
   "execution_count": null,
   "id": "07ef1462-5ca8-4081-a3d3-5ff373de7fe3",
   "metadata": {},
   "outputs": [],
   "source": []
  }
 ],
 "metadata": {
  "kernelspec": {
   "display_name": "Python 3 (ipykernel)",
   "language": "python",
   "name": "python3"
  },
  "language_info": {
   "codemirror_mode": {
    "name": "ipython",
    "version": 3
   },
   "file_extension": ".py",
   "mimetype": "text/x-python",
   "name": "python",
   "nbconvert_exporter": "python",
   "pygments_lexer": "ipython3",
   "version": "3.11.2"
  }
 },
 "nbformat": 4,
 "nbformat_minor": 5
}
